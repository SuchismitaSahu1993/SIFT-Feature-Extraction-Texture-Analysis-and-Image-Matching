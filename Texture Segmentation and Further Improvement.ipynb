{
 "cells": [
  {
   "cell_type": "code",
   "execution_count": null,
   "metadata": {},
   "outputs": [],
   "source": [
    "// --------------------------------------------------------------------------------------------------\n",
    "// #EE569 Homework Assignment #4\n",
    "// #Date: March 19, 2019\n",
    "// #Name: Suchismita Sahu\n",
    "// #ID: 7688176370\n",
    "// #email: suchisms@usc.edu\n",
    "// --------------------------------------------------------------------------------------------------"
   ]
  },
  {
   "cell_type": "code",
   "execution_count": 36,
   "metadata": {},
   "outputs": [],
   "source": [
    "import numpy as np\n",
    "from matplotlib import pyplot as plt\n",
    "from mpl_toolkits.mplot3d import Axes3D\n",
    "import cv2\n",
    "import glob\n",
    "from sklearn.decomposition import PCA\n",
    "from sklearn.cluster import KMeans"
   ]
  },
  {
   "cell_type": "code",
   "execution_count": 37,
   "metadata": {},
   "outputs": [],
   "source": [
    "length = 510\n",
    "width = 510"
   ]
  },
  {
   "cell_type": "code",
   "execution_count": 38,
   "metadata": {},
   "outputs": [],
   "source": [
    "def read_raw(filename, length, width):\n",
    "    input_raw_image = open(filename,'rb').read()\n",
    "    input_raw_image = np.frombuffer(input_raw_image, np.uint8).copy()\n",
    "    img = input_raw_image[0 : length*width]\n",
    "    img = np.reshape(img, (length,width))\n",
    "    return img"
   ]
  },
  {
   "cell_type": "code",
   "execution_count": 39,
   "metadata": {},
   "outputs": [],
   "source": [
    "def convolution(i,j,kernel,image):\n",
    "    pixel = 0.0;\n",
    "    for k in range(i,i+5):\n",
    "        for l in range(j,j+5):\n",
    "            pixel += (image[k][l] * kernel[k-i][l-j])\n",
    "    return pixel;"
   ]
  },
  {
   "cell_type": "code",
   "execution_count": 40,
   "metadata": {},
   "outputs": [],
   "source": [
    "filters = [np.array([1,4,6,4,1]).reshape(1,5),\n",
    "           np.array([-1,-2,0,2,1]).reshape(1,5),\n",
    "           np.array([-1,0,2,0,-1]).reshape(1,5),\n",
    "           np.array([-1,2,0,-2,1]).reshape(1,5),\n",
    "           np.array([1,-4,6,-4,1]).reshape(1,5)]"
   ]
  },
  {
   "cell_type": "code",
   "execution_count": 41,
   "metadata": {},
   "outputs": [
    {
     "data": {
      "text/plain": [
       "<matplotlib.image.AxesImage at 0x1ec91b7ae48>"
      ]
     },
     "execution_count": 41,
     "metadata": {},
     "output_type": "execute_result"
    },
    {
     "data": {
      "image/png": "[encoded data removed]",
      "text/plain": [
       "<matplotlib.figure.Figure at 0x1ec8e8ca198>"
      ]
     },
     "metadata": {},
     "output_type": "display_data"
    }
   ],
   "source": [
    "kernels=[]\n",
    "vectors=[]\n",
    "for i in range(5):\n",
    "    for j in range(5):\n",
    "        kernels.append(np.matmul(np.transpose(filters[i]),filters[j]))\n",
    "\n",
    "raw_image = read_raw('comb.raw', 510, 510)\n",
    "img = raw_image - np.mean(raw_image)\n",
    "\n",
    "img_extended = np.pad(img,2,'reflect')\n",
    "\n",
    "        #new_img = np.zeros((128,128))\n",
    "features=[]\n",
    "filtered_images=[]\n",
    "for index,kernel in enumerate(kernels):\n",
    "    filtered_img = np.zeros((510,510))\n",
    "    for i in range(510):\n",
    "        for j in range(510):\n",
    "            filtered_img[i][j] = convolution(i,j,kernel,img_extended)\n",
    "    \n",
    "    filtered_images.append(filtered_img)\n",
    "    \n",
    "filtered_images_extended=[]\n",
    "for image in filtered_images:\n",
    "    Reimage = np.pad(image,6,'reflect')\n",
    "    filtered_images_extended.append(Reimage)\n",
    "\n",
    "for a in range(510):\n",
    "    for b in range(510):\n",
    "        features=[]\n",
    "        for Reimage in filtered_images_extended:\n",
    "            features.append(np.sum(abs(Reimage[a:a+13,b:b+13])-np.mean(Reimage[a:a+13,b:b+13]))/169)\n",
    "    #features1=[features[0],features[6],features[12],features[18],features[24],features[1]/features[5],features[2]/features[10],features[3]/features[15],features[4]/features[20],features[19]/features[23],features[7]/features[11],features[8]/features[16],features[9]/features[21],features[13]/features[17],features[22]]\n",
    "        vectors.append(np.array(features))\n",
    "\n",
    "    #vectors.append(np.array(features))\n",
    "\n",
    "vectors = np.array(vectors)\n",
    "vectors = vectors[:,1:]\n",
    "\n",
    "vectors = (vectors - np.mean(vectors,axis=0))/np.std(vectors,axis=0)\n",
    "\n",
    "#pca = PCA(n_components = 3)\n",
    "#vectors_ = pca.fit_transform(vectors)\n",
    "\n",
    "#fig = plt.figure()\n",
    "#ax = fig.add_subplot(111,projection='3d')\n",
    "#ax.scatter(vectors_[:,0],vectors_[:,1],vectors_[:,2])\n",
    "#plt.show\n",
    "\n",
    "kmeans = KMeans(n_clusters = 7).fit(vectors)\n",
    "final = kmeans.labels_.reshape(510,510)\n",
    "for i in range(510):\n",
    "    for j in range(510):\n",
    "        if final[i][j]==1:\n",
    "            final[i][j] = 42\n",
    "        elif final[i][j]==2:\n",
    "            final[i][j] = 84\n",
    "        elif final[i][j]==3:\n",
    "            final[i][j] = 126\n",
    "        elif final[i][j]==4:\n",
    "            final[i][j] = 168\n",
    "        elif final[i][j]==5:\n",
    "            final[i][j] = 210\n",
    "        elif final[i][j]==6:\n",
    "            final[i][j] = 255\n",
    "final = np.uint8(final)\n",
    "\n",
    "plt.matshow(final,cmap='gray')"
   ]
  }
 ],
 "metadata": {
  "kernelspec": {
   "display_name": "Python 3",
   "language": "python",
   "name": "python3"
  },
  "language_info": {
   "codemirror_mode": {
    "name": "ipython",
    "version": 3
   },
   "file_extension": ".py",
   "mimetype": "text/x-python",
   "name": "python",
   "nbconvert_exporter": "python",
   "pygments_lexer": "ipython3",
   "version": "3.6.4"
  }
 },
 "nbformat": 4,
 "nbformat_minor": 2
}
